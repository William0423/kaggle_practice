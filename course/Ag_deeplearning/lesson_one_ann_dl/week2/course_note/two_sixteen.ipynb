{
 "cells": [
  {
   "cell_type": "code",
   "execution_count": 1,
   "metadata": {},
   "outputs": [],
   "source": [
    "import numpy as np\n",
    "a = np.random.randn(5)"
   ]
  },
  {
   "cell_type": "code",
   "execution_count": 6,
   "metadata": {},
   "outputs": [
    {
     "name": "stdout",
     "output_type": "stream",
     "text": [
      "[  6.09066188e-04  -1.44635485e+00  -2.01347542e-02  -1.57721220e+00\n",
      "   1.08197973e+00]\n"
     ]
    }
   ],
   "source": [
    "print a"
   ]
  },
  {
   "cell_type": "code",
   "execution_count": 8,
   "metadata": {},
   "outputs": [
    {
     "name": "stdout",
     "output_type": "stream",
     "text": [
      "(5,)\n"
     ]
    }
   ],
   "source": [
    "print a.shape"
   ]
  },
  {
   "cell_type": "code",
   "execution_count": 10,
   "metadata": {},
   "outputs": [
    {
     "name": "stdout",
     "output_type": "stream",
     "text": [
      "[  6.09066188e-04  -1.44635485e+00  -2.01347542e-02  -1.57721220e+00\n",
      "   1.08197973e+00]\n"
     ]
    }
   ],
   "source": [
    "print a.T # 秩为1的数组"
   ]
  },
  {
   "cell_type": "code",
   "execution_count": 12,
   "metadata": {},
   "outputs": [
    {
     "name": "stdout",
     "output_type": "stream",
     "text": [
      "(5,)\n"
     ]
    }
   ],
   "source": [
    "print a.shape"
   ]
  },
  {
   "cell_type": "code",
   "execution_count": 14,
   "metadata": {},
   "outputs": [
    {
     "name": "stdout",
     "output_type": "stream",
     "text": [
      "5.75062659155\n"
     ]
    }
   ],
   "source": [
    "print np.dot(a,a.T)"
   ]
  },
  {
   "cell_type": "code",
   "execution_count": 17,
   "metadata": {},
   "outputs": [],
   "source": [
    "b = np.random.randn(5,1)"
   ]
  },
  {
   "cell_type": "code",
   "execution_count": 21,
   "metadata": {},
   "outputs": [
    {
     "name": "stdout",
     "output_type": "stream",
     "text": [
      "[[ 0.03045338]\n",
      " [ 0.07209747]\n",
      " [ 0.4320537 ]\n",
      " [-0.7659126 ]\n",
      " [ 0.26135994]]\n"
     ]
    }
   ],
   "source": [
    "print b # np.random.randn(5)和np.random.randn(5,1)两者得到的结果是不同的，而第一种情况可能会带来更多bug"
   ]
  },
  {
   "cell_type": "code",
   "execution_count": 23,
   "metadata": {},
   "outputs": [
    {
     "name": "stdout",
     "output_type": "stream",
     "text": [
      "[[ 0.03045338  0.07209747  0.4320537  -0.7659126   0.26135994]]\n"
     ]
    }
   ],
   "source": [
    "print b.T # 1x5维的矩阵"
   ]
  },
  {
   "cell_type": "code",
   "execution_count": 26,
   "metadata": {},
   "outputs": [
    {
     "name": "stdout",
     "output_type": "stream",
     "text": [
      "[[ 0.00092741  0.00219561  0.01315749 -0.02332463  0.00795929]\n",
      " [ 0.00219561  0.00519805  0.03114998 -0.05522036  0.01884339]\n",
      " [ 0.01315749  0.03114998  0.1866704  -0.33091537  0.11292153]\n",
      " [-0.02332463 -0.05522036 -0.33091537  0.58662211 -0.20017887]\n",
      " [ 0.00795929  0.01884339  0.11292153 -0.20017887  0.06830902]]\n"
     ]
    }
   ],
   "source": [
    "print np.dot(b,b.T)"
   ]
  }
 ],
 "metadata": {
  "kernelspec": {
   "display_name": "Python 2",
   "language": "python",
   "name": "python2"
  },
  "language_info": {
   "codemirror_mode": {
    "name": "ipython",
    "version": 2
   },
   "file_extension": ".py",
   "mimetype": "text/x-python",
   "name": "python",
   "nbconvert_exporter": "python",
   "pygments_lexer": "ipython2",
   "version": "2.7.12"
  }
 },
 "nbformat": 4,
 "nbformat_minor": 2
}
